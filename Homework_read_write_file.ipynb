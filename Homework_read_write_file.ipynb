{
 "cells": [
  {
   "cell_type": "code",
   "execution_count": 1,
   "metadata": {},
   "outputs": [
    {
     "name": "stdout",
     "output_type": "stream",
     "text": [
      "{'Омлет': [{'ingredient_name': 'Яйцо', 'quantity': 2, 'measure': 'шт'}, {'ingredient_name': 'Молоко', 'quantity': 100, 'measure': 'мл'}, {'ingredient_name': 'Помидор', 'quantity': 2, 'measure': 'шт'}], 'Утка по-пекински': [{'ingredient_name': 'Утка', 'quantity': 1, 'measure': 'шт'}, {'ingredient_name': 'Вода', 'quantity': 2, 'measure': 'л'}, {'ingredient_name': 'Мед', 'quantity': 3, 'measure': 'ст.л'}, {'ingredient_name': 'Соевый соус', 'quantity': 60, 'measure': 'мл'}], 'Запеченный картофель': [{'ingredient_name': 'Картофель', 'quantity': 1, 'measure': 'кг'}, {'ingredient_name': 'Чеснок', 'quantity': 3, 'measure': 'зубч'}, {'ingredient_name': 'Сыр гауда', 'quantity': 100, 'measure': 'г'}], 'Фахитос': [{'ingredient_name': 'Говядина', 'quantity': 500, 'measure': 'г'}, {'ingredient_name': 'Перец сладкий', 'quantity': 1, 'measure': 'шт'}, {'ingredient_name': 'Лаваш', 'quantity': 2, 'measure': 'шт'}, {'ingredient_name': 'Винный уксус', 'quantity': 1, 'measure': 'ст.л'}, {'ingredient_name': 'Помидор', 'quantity': 2, 'measure': 'шт'}]}\n"
     ]
    },
    {
     "data": {
      "text/plain": [
       "{'Яйцо': {'measure': 'шт', 'quantity': 20},\n",
       " 'Молоко': {'measure': 'мл', 'quantity': 1000},\n",
       " 'Помидор': {'measure': 'шт', 'quantity': 20},\n",
       " 'Утка': {'measure': 'шт', 'quantity': 10},\n",
       " 'Вода': {'measure': 'л', 'quantity': 20},\n",
       " 'Мед': {'measure': 'ст.л', 'quantity': 30},\n",
       " 'Соевый соус': {'measure': 'мл', 'quantity': 600}}"
      ]
     },
     "execution_count": 1,
     "metadata": {},
     "output_type": "execute_result"
    }
   ],
   "source": [
    "cook_book = {}\n",
    "\n",
    "with open('recipes.txt', 'r', encoding='utf-8') as f:\n",
    "    book = f.readlines()\n",
    "\n",
    "    i = 0\n",
    "    while (i < len(book)):\n",
    "        key = book[i].rstrip(\"\\n\")\n",
    "        values = []\n",
    "        num = int(book[i+1]);\n",
    "        for j in range(num):\n",
    "            ingridient = {}\n",
    "            ingridient['ingredient_name'] = book[i + 2 + j].split(\" | \")[0]\n",
    "            ingridient['quantity'] = int(book[i + 2 + j].split(\" | \")[1])\n",
    "            ingridient['measure'] = book[i + 2+ j].split(\" | \")[2].rstrip(\"\\n\")\n",
    "            values.append(ingridient) \n",
    "            \n",
    "        cook_book[key] = values            \n",
    "        i = i + num + 3\n",
    "               \n",
    "            \n",
    "print(cook_book)\n",
    "        \n",
    "def get_shop_list_by_dishes(dishes, person_count):\n",
    "    shopping_list = {}\n",
    "    for dish in dishes:\n",
    "        for key, values in cook_book.items():\n",
    "            if dish == key:\n",
    "                for ingredient in values:\n",
    "                    shopping_list[ingredient['ingredient_name']] = {'measure':ingredient['measure'],'quantity':ingredient['quantity']*person_count}\n",
    "    return shopping_list\n",
    "                        \n",
    "get_shop_list_by_dishes(['Омлет', 'Утка по-пекински'], 10)\n",
    "\n",
    "        \n",
    "    \n",
    "  \n",
    "    "
   ]
  },
  {
   "cell_type": "code",
   "execution_count": 2,
   "metadata": {},
   "outputs": [],
   "source": [
    "import os\n",
    "\n",
    "dir = os.path.join(os.getcwd(), 'sorted')\n",
    "\n",
    "files = os.listdir(dir)\n",
    "result = {}\n",
    "for file in files:\n",
    "    with open(file, encoding='utf-8' ) as f:\n",
    "        text = f.readlines()\n",
    "    result[file] = len(text)\n",
    "         \n",
    "result = sorted(result.items(), key=lambda x:x[1])\n",
    "\n",
    "\n",
    "for file in result:\n",
    "    with open('final.txt', 'a') as f:\n",
    "        with open(file[0], 'r', encoding='utf-8' ) as f1:\n",
    "            f.write(file[0] + '\\n')\n",
    "            f.write(str(file[1]) + '\\n')\n",
    "            for line in f1:\n",
    "                f.write(line)\n",
    "            f.write('\\n')\n",
    "    \n",
    "        "
   ]
  }
 ],
 "metadata": {
  "kernelspec": {
   "display_name": "Python 3",
   "language": "python",
   "name": "python3"
  },
  "language_info": {
   "codemirror_mode": {
    "name": "ipython",
    "version": 3
   },
   "file_extension": ".py",
   "mimetype": "text/x-python",
   "name": "python",
   "nbconvert_exporter": "python",
   "pygments_lexer": "ipython3",
   "version": "3.7.6"
  }
 },
 "nbformat": 4,
 "nbformat_minor": 4
}

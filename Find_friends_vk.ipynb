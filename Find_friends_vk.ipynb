{
 "cells": [
  {
   "cell_type": "code",
   "execution_count": null,
   "metadata": {},
   "outputs": [],
   "source": [
    "with open('token_vk.txt', 'r') as file_object:\n",
    "    token = file_object.read().strip()\n",
    "    \n",
    "version = '5.126'"
   ]
  },
  {
   "cell_type": "code",
   "execution_count": null,
   "metadata": {},
   "outputs": [],
   "source": [
    "import requests\n",
    "\n",
    "class VkUser:\n",
    "    url = 'https://api.vk.com/method/'\n",
    "\n",
    "    def __init__(self, token, version, user_id=None):\n",
    "        self.user_id = user_id\n",
    "        self.token = token\n",
    "        self.version = version\n",
    "        self.params = {\n",
    "            'user_id': self.user_id,\n",
    "            'access_token': self.token,\n",
    "            'v': self.version     \n",
    "        }\n",
    "        self.owner_id = requests.get(self.url+'users.get', self.params).json()['response'][0]['id']\n",
    "        \n",
    "        \n",
    "        \n",
    "    def get_friends(self, user_id=None):\n",
    "        if user_id is None:\n",
    "            user_id = self.owner_id\n",
    "        friends_url = self.url + 'friends.get'\n",
    "        friends_params = {\n",
    "            \n",
    "            'user_id': user_id,\n",
    "\n",
    "        }\n",
    "        res = requests.get(friends_url, params={**self.params, **friends_params})\n",
    "        return res.json()['response']['items']\n",
    "    \n",
    "    def __str__(self):\n",
    "        if self.user_id is None:\n",
    "            self.user_id = self.owner_id\n",
    "        \n",
    "        str = f'https://vk.com/id{self.user_id}'\n",
    "        \n",
    "        return str\n",
    "\n",
    "    "
   ]
  },
  {
   "cell_type": "code",
   "execution_count": null,
   "metadata": {},
   "outputs": [],
   "source": [
    "def find_common_friends(user1, user2):\n",
    "    users_id = list(set(user1.get_friends())&set(user2.get_friends()))\n",
    "    return [VkUser(token, version, id) for id in users_id]"
   ]
  },
  {
   "cell_type": "code",
   "execution_count": null,
   "metadata": {},
   "outputs": [],
   "source": [
    "user_1= VkUser(token, version)\n",
    "user_2 = VkUser(token, version)\n",
    "res = find_common_friends(user_1, user_2)\n",
    "\n",
    "print(f'Найдено {len(res)} общих друзей:')\n",
    "\n",
    "for user in res:\n",
    "    print(user)\n",
    "\n"
   ]
  },
  {
   "cell_type": "code",
   "execution_count": null,
   "metadata": {},
   "outputs": [],
   "source": []
  }
 ],
 "metadata": {
  "kernelspec": {
   "display_name": "Python 3",
   "language": "python",
   "name": "python3"
  },
  "language_info": {
   "codemirror_mode": {
    "name": "ipython",
    "version": 3
   },
   "file_extension": ".py",
   "mimetype": "text/x-python",
   "name": "python",
   "nbconvert_exporter": "python",
   "pygments_lexer": "ipython3",
   "version": "3.7.6"
  }
 },
 "nbformat": 4,
 "nbformat_minor": 4
}

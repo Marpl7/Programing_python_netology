{
 "cells": [
  {
   "cell_type": "code",
   "execution_count": 9,
   "metadata": {},
   "outputs": [
    {
     "name": "stdout",
     "output_type": "stream",
     "text": [
      "{'Hulk': 88, 'Captain America': 69, 'Thanos': 100, 'Harry Potter': 75}\n",
      "Thanos is the most intelligent hero\n"
     ]
    }
   ],
   "source": [
    "import requests\n",
    "\n",
    "token = 2619421814940190\n",
    "names = ['Hulk', 'Captain America', 'Thanos', 'Harry Potter']\n",
    "Intelligence = {}\n",
    "\n",
    "for name in names:\n",
    "    url = 'https://superheroapi.com/api/2619421814940190/search/'\n",
    "    url = url + name\n",
    "\n",
    "    response = requests.get(url)\n",
    "    response.raise_for_status()\n",
    "    Intelligence[name] = int(response.json()['results'][0]['powerstats']['intelligence'])\n",
    "    \n",
    "print(Intelligence)\n",
    "print(f'{[k for k, v in Intelligence.items() if v == max(Intelligence.values())][0]} is the most intelligent hero')"
   ]
  },
  {
   "cell_type": "code",
   "execution_count": 8,
   "metadata": {},
   "outputs": [
    {
     "ename": "HTTPError",
     "evalue": "409 Client Error: CONFLICT for url: https://cloud-api.yandex.net/v1/disk/resources/upload?path=file.txt",
     "output_type": "error",
     "traceback": [
      "\u001b[1;31m---------------------------------------------------------------------------\u001b[0m",
      "\u001b[1;31mHTTPError\u001b[0m                                 Traceback (most recent call last)",
      "\u001b[1;32m<ipython-input-8-06a0b7cca960>\u001b[0m in \u001b[0;36m<module>\u001b[1;34m\u001b[0m\n\u001b[0;32m     35\u001b[0m     \u001b[0mpath\u001b[0m \u001b[1;33m=\u001b[0m \u001b[1;34m'c:/my_folder/file.txt'\u001b[0m\u001b[1;33m\u001b[0m\u001b[1;33m\u001b[0m\u001b[0m\n\u001b[0;32m     36\u001b[0m     \u001b[0muploader\u001b[0m \u001b[1;33m=\u001b[0m \u001b[0mYaUploader\u001b[0m\u001b[1;33m(\u001b[0m\u001b[0mtoken\u001b[0m\u001b[1;33m)\u001b[0m\u001b[1;33m\u001b[0m\u001b[1;33m\u001b[0m\u001b[0m\n\u001b[1;32m---> 37\u001b[1;33m     \u001b[0mresult\u001b[0m \u001b[1;33m=\u001b[0m \u001b[0muploader\u001b[0m\u001b[1;33m.\u001b[0m\u001b[0mupload\u001b[0m\u001b[1;33m(\u001b[0m\u001b[0mpath\u001b[0m\u001b[1;33m)\u001b[0m\u001b[1;33m\u001b[0m\u001b[1;33m\u001b[0m\u001b[0m\n\u001b[0m\u001b[0;32m     38\u001b[0m \u001b[1;33m\u001b[0m\u001b[0m\n\u001b[0;32m     39\u001b[0m \u001b[1;33m\u001b[0m\u001b[0m\n",
      "\u001b[1;32m<ipython-input-8-06a0b7cca960>\u001b[0m in \u001b[0;36mupload\u001b[1;34m(self, file_path)\u001b[0m\n\u001b[0;32m     20\u001b[0m         )\n\u001b[0;32m     21\u001b[0m \u001b[1;33m\u001b[0m\u001b[0m\n\u001b[1;32m---> 22\u001b[1;33m         \u001b[0mresponse\u001b[0m\u001b[1;33m.\u001b[0m\u001b[0mraise_for_status\u001b[0m\u001b[1;33m(\u001b[0m\u001b[1;33m)\u001b[0m\u001b[1;33m\u001b[0m\u001b[1;33m\u001b[0m\u001b[0m\n\u001b[0m\u001b[0;32m     23\u001b[0m \u001b[1;33m\u001b[0m\u001b[0m\n\u001b[0;32m     24\u001b[0m         \u001b[0mhref\u001b[0m \u001b[1;33m=\u001b[0m \u001b[0mresponse\u001b[0m\u001b[1;33m.\u001b[0m\u001b[0mjson\u001b[0m\u001b[1;33m(\u001b[0m\u001b[1;33m)\u001b[0m\u001b[1;33m[\u001b[0m\u001b[1;34m\"href\"\u001b[0m\u001b[1;33m]\u001b[0m\u001b[1;33m\u001b[0m\u001b[1;33m\u001b[0m\u001b[0m\n",
      "\u001b[1;32m~\\anaconda3\\lib\\site-packages\\requests\\models.py\u001b[0m in \u001b[0;36mraise_for_status\u001b[1;34m(self)\u001b[0m\n\u001b[0;32m    938\u001b[0m \u001b[1;33m\u001b[0m\u001b[0m\n\u001b[0;32m    939\u001b[0m         \u001b[1;32mif\u001b[0m \u001b[0mhttp_error_msg\u001b[0m\u001b[1;33m:\u001b[0m\u001b[1;33m\u001b[0m\u001b[1;33m\u001b[0m\u001b[0m\n\u001b[1;32m--> 940\u001b[1;33m             \u001b[1;32mraise\u001b[0m \u001b[0mHTTPError\u001b[0m\u001b[1;33m(\u001b[0m\u001b[0mhttp_error_msg\u001b[0m\u001b[1;33m,\u001b[0m \u001b[0mresponse\u001b[0m\u001b[1;33m=\u001b[0m\u001b[0mself\u001b[0m\u001b[1;33m)\u001b[0m\u001b[1;33m\u001b[0m\u001b[1;33m\u001b[0m\u001b[0m\n\u001b[0m\u001b[0;32m    941\u001b[0m \u001b[1;33m\u001b[0m\u001b[0m\n\u001b[0;32m    942\u001b[0m     \u001b[1;32mdef\u001b[0m \u001b[0mclose\u001b[0m\u001b[1;33m(\u001b[0m\u001b[0mself\u001b[0m\u001b[1;33m)\u001b[0m\u001b[1;33m:\u001b[0m\u001b[1;33m\u001b[0m\u001b[1;33m\u001b[0m\u001b[0m\n",
      "\u001b[1;31mHTTPError\u001b[0m: 409 Client Error: CONFLICT for url: https://cloud-api.yandex.net/v1/disk/resources/upload?path=file.txt"
     ]
    }
   ],
   "source": [
    "import requests\n",
    "import os\n",
    "\n",
    "class YaUploader:\n",
    "    def __init__(self, token: str):\n",
    "        self.token = token\n",
    "\n",
    "    def upload(self, file_path: str):\n",
    "        \"\"\"Метод загруджает файл file_path на яндекс диск\"\"\"\n",
    "        TOKEN = token\n",
    "        HEADERS = {\n",
    "            \"Authorization\": f\"OAuth {TOKEN}\"\n",
    "        }\n",
    "        response = requests.get(\n",
    "            \"https://cloud-api.yandex.net/v1/disk/resources/upload\",\n",
    "            params={\n",
    "                \"path\": str(file_path.split('/')[-1])\n",
    "            },\n",
    "            headers=HEADERS\n",
    "        )\n",
    "\n",
    "        response.raise_for_status()\n",
    "\n",
    "        href = response.json()[\"href\"]\n",
    "        \n",
    "        with open(file_path, \"rb\") as f:\n",
    "            upload_response = requests.put(href, files={\"file\": f})\n",
    "            upload_response.raise_for_status()\n",
    "                \n",
    "        return print(\"Файл успешно загружен!\")\n",
    "\n",
    "\n",
    "if __name__ == '__main__':\n",
    "    token = 'AgAAAAAt33vgAADLWzm05-c_tkYqsPnUSgcXVOc'\n",
    "    path = 'c:/my_folder/file.txt'\n",
    "    uploader = YaUploader(token)\n",
    "    result = uploader.upload(path)\n",
    "    \n",
    "    \n",
    "    \n",
    "    "
   ]
  },
  {
   "cell_type": "code",
   "execution_count": null,
   "metadata": {},
   "outputs": [],
   "source": []
  },
  {
   "cell_type": "code",
   "execution_count": null,
   "metadata": {},
   "outputs": [],
   "source": [
    "from datetime import date\n",
    "import time\n",
    "print(date.today())\n",
    "print(time.time())\n",
    "days = 2\n",
    "end_date =  round(time.time())\n",
    "start_date =  end_date - 86400*days\n",
    "print(start_date, end_date)\n"
   ]
  },
  {
   "cell_type": "code",
   "execution_count": 7,
   "metadata": {},
   "outputs": [
    {
     "name": "stdout",
     "output_type": "stream",
     "text": [
      "['Django: How to search through django.template.context.RequestContext',\n",
      " 'Receiving multicast inside docker container',\n",
      " 'Min sum of euclidean distance point?',\n",
      " 'Iterate over list of strings to pull out substrings',\n",
      " 'Django adds &quot;index&quot; to empty url',\n",
      " 'Group By and Count occurences of values in list of nested dicts',\n",
      " 'Request receiving 403 in Python but working fine in browser',\n",
      " 'EventGrid-triggered Python Azure Function &quot;ClientOtherError&quot; and '\n",
      " '&quot;AuthorizationError&quot;, how to troubleshoot?',\n",
      " 'datetime on a single row and not a column',\n",
      " 'Wrapper function that reads arguments from file and then passes to '\n",
      " 'subroutines in python3',\n",
      " 'How could I send objects from django template to views?',\n",
      " 'train test split is not splitting correctly',\n",
      " 'Catching RequestEntityTooLarge from Flask server',\n",
      " 'how to gerenate an executable from aws-chalice application?',\n",
      " 'Sending .wav file from frontend to Flask backend',\n",
      " 'Pandas: Win % for the last n rows based on id',\n",
      " 'How do I make a string split by every letter',\n",
      " 'reticulate won&#39;t find conda env on Linux',\n",
      " 'Python Change list to dictionary',\n",
      " 'Tensorflow Cannot feed value Text Classifier',\n",
      " 'Extract text from python list item',\n",
      " 'How to convert an input number string to a sentence according to '\n",
      " 'alphabetical mapping?',\n",
      " 'Why does this code not output anything after getting user input?',\n",
      " 'Find cases of List[&quot;str&quot;] but not List[str] = [&quot;a&quot;]',\n",
      " 'I&#39;m trying to write a short program to find an ideal domino chain, '\n",
      " 'ideas?',\n",
      " 'factory-boy: Passing &quot;size&quot; on the fly to RelatedFactoryList',\n",
      " 'How to list root folders of a remote Git repository with Python?',\n",
      " 'How do I properly clear outstanding futures in `dask.distributed` when using '\n",
      " '`as_completed`?',\n",
      " 'Selenium Object of Type WebElement has no len()',\n",
      " 'Extracting Dividends from NASDAQ using BeautifulSoup4']\n"
     ]
    }
   ],
   "source": [
    "import requests\n",
    "from pprint import pprint\n",
    "from datetime import date\n",
    "import time\n",
    "\n",
    "days = 2\n",
    "end_date =  round(time.time())\n",
    "start_date =  end_date - 86400*days\n",
    "tags = 'Python'\n",
    "\n",
    "def get_questions(start_date, end_date, tags):\n",
    "\n",
    "    url = 'https://api.stackexchange.com/2.2/questions'\n",
    "    # url = 'https://api.stackexchange.com/2.2/questions?fromdate=1609891200&todate=1610064000&order=desc&sort=activity&tagged=python&site=stackoverflow'\n",
    "\n",
    "    params = {'fromdate': str(start_date), 'todate': str(end_date), 'tagged': tags, 'site':'stackoverflow'}\n",
    "\n",
    "    response = requests.get(url, params)  \n",
    "    response.raise_for_status()\n",
    "    \n",
    "    questions = []\n",
    "\n",
    "    for items in response.json()['items']:\n",
    "        questions += [items['title']]\n",
    "                \n",
    "    return questions\n",
    "\n",
    "pprint(get_questions(start_date, end_date, tags))"
   ]
  },
  {
   "cell_type": "code",
   "execution_count": 1,
   "metadata": {},
   "outputs": [],
   "source": []
  }
 ],
 "metadata": {
  "kernelspec": {
   "display_name": "Python 3",
   "language": "python",
   "name": "python3"
  },
  "language_info": {
   "codemirror_mode": {
    "name": "ipython",
    "version": 3
   },
   "file_extension": ".py",
   "mimetype": "text/x-python",
   "name": "python",
   "nbconvert_exporter": "python",
   "pygments_lexer": "ipython3",
   "version": "3.7.6"
  }
 },
 "nbformat": 4,
 "nbformat_minor": 4
}

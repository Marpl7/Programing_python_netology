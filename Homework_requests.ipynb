{
 "cells": [
  {
   "cell_type": "code",
   "execution_count": 9,
   "metadata": {},
   "outputs": [
    {
     "name": "stdout",
     "output_type": "stream",
     "text": [
      "{'Hulk': 88, 'Captain America': 69, 'Thanos': 100, 'Harry Potter': 75}\n",
      "Thanos is the most intelligent hero\n"
     ]
    }
   ],
   "source": [
    "import requests\n",
    "\n",
    "token = 2619421814940190\n",
    "names = ['Hulk', 'Captain America', 'Thanos', 'Harry Potter']\n",
    "Intelligence = {}\n",
    "\n",
    "for name in names:\n",
    "    url = 'https://superheroapi.com/api/2619421814940190/search/'\n",
    "    url = url + name\n",
    "\n",
    "    response = requests.get(url)\n",
    "    response.raise_for_status()\n",
    "    Intelligence[name] = int(response.json()['results'][0]['powerstats']['intelligence'])\n",
    "    \n",
    "print(Intelligence)\n",
    "print(f'{[k for k, v in Intelligence.items() if v == max(Intelligence.values())][0]} is the most intelligent hero')"
   ]
  },
  {
   "cell_type": "code",
   "execution_count": 10,
   "metadata": {},
   "outputs": [
    {
     "name": "stdout",
     "output_type": "stream",
     "text": [
      "Файл успешно загружен!\n"
     ]
    }
   ],
   "source": [
    "import requests\n",
    "import os\n",
    "\n",
    "class YaUploader:\n",
    "    def __init__(self, token: str):\n",
    "        self.token = token\n",
    "\n",
    "    def upload(self, file_path: str):\n",
    "        \"\"\"Метод загруджает файл file_path на яндекс диск\"\"\"\n",
    "        TOKEN = token\n",
    "        HEADERS = {\n",
    "            \"Authorization\": f\"OAuth {TOKEN}\"\n",
    "        }\n",
    "        response = requests.get(\n",
    "            \"https://cloud-api.yandex.net/v1/disk/resources/upload\",\n",
    "            params={\n",
    "                \"path\": str(file_path.split('/')[-1])\n",
    "            },\n",
    "            headers=HEADERS\n",
    "        )\n",
    "\n",
    "        response.raise_for_status()\n",
    "\n",
    "        href = response.json()[\"href\"]\n",
    "        \n",
    "        with open(file_path, \"rb\") as f:\n",
    "            upload_response = requests.put(href, files={\"file\": f})\n",
    "            upload_response.raise_for_status()\n",
    "                \n",
    "        return print(\"Файл успешно загружен!\")\n",
    "\n",
    "\n",
    "if __name__ == '__main__':\n",
    "    token = ''\n",
    "    path = 'c:/my_folder/file.txt'\n",
    "    uploader = YaUploader(token)\n",
    "    result = uploader.upload(path)\n",
    "    \n",
    "    \n",
    "    \n",
    "    "
   ]
  },
  {
   "cell_type": "code",
   "execution_count": null,
   "metadata": {},
   "outputs": [],
   "source": []
  },
  {
   "cell_type": "code",
   "execution_count": null,
   "metadata": {},
   "outputs": [],
   "source": []
  },
  {
   "cell_type": "code",
   "execution_count": 7,
   "metadata": {},
   "outputs": [
    {
     "name": "stdout",
     "output_type": "stream",
     "text": [
      "['Django: How to search through django.template.context.RequestContext',\n",
      " 'Receiving multicast inside docker container',\n",
      " 'Min sum of euclidean distance point?',\n",
      " 'Iterate over list of strings to pull out substrings',\n",
      " 'Django adds &quot;index&quot; to empty url',\n",
      " 'Group By and Count occurences of values in list of nested dicts',\n",
      " 'Request receiving 403 in Python but working fine in browser',\n",
      " 'EventGrid-triggered Python Azure Function &quot;ClientOtherError&quot; and '\n",
      " '&quot;AuthorizationError&quot;, how to troubleshoot?',\n",
      " 'datetime on a single row and not a column',\n",
      " 'Wrapper function that reads arguments from file and then passes to '\n",
      " 'subroutines in python3',\n",
      " 'How could I send objects from django template to views?',\n",
      " 'train test split is not splitting correctly',\n",
      " 'Catching RequestEntityTooLarge from Flask server',\n",
      " 'how to gerenate an executable from aws-chalice application?',\n",
      " 'Sending .wav file from frontend to Flask backend',\n",
      " 'Pandas: Win % for the last n rows based on id',\n",
      " 'How do I make a string split by every letter',\n",
      " 'reticulate won&#39;t find conda env on Linux',\n",
      " 'Python Change list to dictionary',\n",
      " 'Tensorflow Cannot feed value Text Classifier',\n",
      " 'Extract text from python list item',\n",
      " 'How to convert an input number string to a sentence according to '\n",
      " 'alphabetical mapping?',\n",
      " 'Why does this code not output anything after getting user input?',\n",
      " 'Find cases of List[&quot;str&quot;] but not List[str] = [&quot;a&quot;]',\n",
      " 'I&#39;m trying to write a short program to find an ideal domino chain, '\n",
      " 'ideas?',\n",
      " 'factory-boy: Passing &quot;size&quot; on the fly to RelatedFactoryList',\n",
      " 'How to list root folders of a remote Git repository with Python?',\n",
      " 'How do I properly clear outstanding futures in `dask.distributed` when using '\n",
      " '`as_completed`?',\n",
      " 'Selenium Object of Type WebElement has no len()',\n",
      " 'Extracting Dividends from NASDAQ using BeautifulSoup4']\n"
     ]
    }
   ],
   "source": [
    "import requests\n",
    "from pprint import pprint\n",
    "from datetime import date\n",
    "import time\n",
    "\n",
    "days = 2\n",
    "end_date =  round(time.time())\n",
    "start_date =  end_date - 86400*days\n",
    "tags = 'Python'\n",
    "\n",
    "def get_questions(start_date, end_date, tags):\n",
    "\n",
    "    url = 'https://api.stackexchange.com/2.2/questions'\n",
    "    # url = 'https://api.stackexchange.com/2.2/questions?fromdate=1609891200&todate=1610064000&order=desc&sort=activity&tagged=python&site=stackoverflow'\n",
    "\n",
    "    params = {'fromdate': str(start_date), 'todate': str(end_date), 'tagged': tags, 'site':'stackoverflow'}\n",
    "\n",
    "    response = requests.get(url, params)  \n",
    "    response.raise_for_status()\n",
    "    \n",
    "    questions = []\n",
    "\n",
    "    for items in response.json()['items']:\n",
    "        questions += [items['title']]\n",
    "                \n",
    "    return questions\n",
    "\n",
    "pprint(get_questions(start_date, end_date, tags))"
   ]
  },
  {
   "cell_type": "code",
   "execution_count": 1,
   "metadata": {},
   "outputs": [],
   "source": []
  }
 ],
 "metadata": {
  "kernelspec": {
   "display_name": "Python 3",
   "language": "python",
   "name": "python3"
  },
  "language_info": {
   "codemirror_mode": {
    "name": "ipython",
    "version": 3
   },
   "file_extension": ".py",
   "mimetype": "text/x-python",
   "name": "python",
   "nbconvert_exporter": "python",
   "pygments_lexer": "ipython3",
   "version": "3.7.6"
  }
 },
 "nbformat": 4,
 "nbformat_minor": 4
}

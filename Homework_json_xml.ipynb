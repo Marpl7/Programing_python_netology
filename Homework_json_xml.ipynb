{
 "cells": [
  {
   "cell_type": "code",
   "execution_count": 1,
   "metadata": {},
   "outputs": [
    {
     "name": "stdout",
     "output_type": "stream",
     "text": [
      "[('туристов', 40), ('компании', 26), ('Wilderness', 23), ('странах', 21), ('туризма', 19), ('которые', 16), ('африканских', 16), ('туристы', 15), ('является', 14), ('природы', 13)]\n"
     ]
    }
   ],
   "source": [
    "import json\n",
    "from pprint import pprint\n",
    "\n",
    "with open(\"newsafr.json\", encoding=\"utf-8\") as f:\n",
    "    data = json.load(f)\n",
    "    news_descr = data['rss']['channel']['items']\n",
    "\n",
    "words = []   \n",
    "for news in news_descr:\n",
    "    words += news['description'].split(' ')\n",
    "\n",
    "words = [i for i in words if len(i) > 6] \n",
    "# sorted_words = (sorted(words, key=len, reverse = True))\n",
    "\n",
    "result = {}\n",
    "    \n",
    "for word in words:\n",
    "    result[word] = words.count(word)\n",
    "\n",
    "print(sorted(result.items(), key=lambda x:x[1], reverse = True)[:10])\n",
    "    \n"
   ]
  },
  {
   "cell_type": "code",
   "execution_count": 2,
   "metadata": {},
   "outputs": [
    {
     "name": "stdout",
     "output_type": "stream",
     "text": [
      "[('туристов', 40), ('компании', 26), ('Wilderness', 23), ('странах', 21), ('туризма', 19), ('которые', 16), ('африканских', 16), ('туристы', 15), ('является', 14), ('природы', 13)]\n"
     ]
    }
   ],
   "source": [
    "import xml.etree.ElementTree as ET\n",
    "\n",
    "tree = ET.parse(\"newsafr.xml\")\n",
    "root = tree.getroot()\n",
    "\n",
    "xml_title = root.findall('channel/item')\n",
    "\n",
    "[elem.tag for elem in root.iter()]\n",
    "\n",
    "words = [] \n",
    "for title in root.iter('description'):\n",
    "    words += title.text.split(' ')\n",
    "\n",
    "words = [i for i in words if len(i) > 6]\n",
    "\n",
    "result = {}\n",
    "    \n",
    "for word in words:\n",
    "    result[word] = words.count(word)\n",
    "\n",
    "print(sorted(result.items(), key=lambda x:x[1], reverse = True)[:10])\n",
    "\n"
   ]
  }
 ],
 "metadata": {
  "kernelspec": {
   "display_name": "Python 3",
   "language": "python",
   "name": "python3"
  },
  "language_info": {
   "codemirror_mode": {
    "name": "ipython",
    "version": 3
   },
   "file_extension": ".py",
   "mimetype": "text/x-python",
   "name": "python",
   "nbconvert_exporter": "python",
   "pygments_lexer": "ipython3",
   "version": "3.7.6"
  }
 },
 "nbformat": 4,
 "nbformat_minor": 4
}

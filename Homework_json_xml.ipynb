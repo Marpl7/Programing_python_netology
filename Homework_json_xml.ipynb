{
 "cells": [
  {
   "cell_type": "code",
   "execution_count": 16,
   "metadata": {},
   "outputs": [
    {
     "name": "stdout",
     "output_type": "stream",
     "text": [
      "[('туристов', 40),\n",
      " ('компании', 26),\n",
      " ('Wilderness', 23),\n",
      " ('странах', 21),\n",
      " ('туризма', 19),\n",
      " ('которые', 16),\n",
      " ('африканских', 16),\n",
      " ('туристы', 15),\n",
      " ('является', 14),\n",
      " ('природы', 13)]\n"
     ]
    }
   ],
   "source": [
    "import json\n",
    "from pprint import pprint\n",
    "\n",
    "file = \"newsafr.json\"\n",
    "min_word_length = 6\n",
    "number_to_show = 10\n",
    "\n",
    "def read_json(file_name):\n",
    "\n",
    "    with open(file_name, encoding=\"utf-8\") as f:\n",
    "        data = json.load(f)\n",
    "        news_descr = data['rss']['channel']['items']\n",
    "        \n",
    "    words = []   \n",
    "    for news in news_descr:\n",
    "        words += news['description'].split(' ')\n",
    "    return words\n",
    "\n",
    "def select_words(words, min_word_length):\n",
    "   \n",
    "    words = [i for i in words if len(i) > min_word_length] \n",
    "    # sorted_words = (sorted(words, key=len, reverse = True))\n",
    "    return words\n",
    "\n",
    "def top_mentioned(words, number_to_show):    \n",
    "    result = {}\n",
    "\n",
    "    for word in words:\n",
    "        result[word] = words.count(word)\n",
    "\n",
    "    return (sorted(result.items(), key=lambda x:x[1], reverse = True)[:number_to_show])\n",
    "\n",
    "words_list = (read_json(file))\n",
    "words = select_words(words_list, min_word_length)\n",
    "pprint(top_mentioned(words, number_to_show))"
   ]
  },
  {
   "cell_type": "code",
   "execution_count": 15,
   "metadata": {},
   "outputs": [
    {
     "name": "stdout",
     "output_type": "stream",
     "text": [
      "[('туристов', 40),\n",
      " ('компании', 26),\n",
      " ('Wilderness', 23),\n",
      " ('странах', 21),\n",
      " ('туризма', 19),\n",
      " ('которые', 16),\n",
      " ('африканских', 16),\n",
      " ('туристы', 15),\n",
      " ('является', 14),\n",
      " ('природы', 13)]\n"
     ]
    }
   ],
   "source": [
    "import xml.etree.ElementTree as ET\n",
    "\n",
    "file = \"newsafr.xml\"\n",
    "\n",
    "def read_xml(file_name):\n",
    "    \n",
    "    tree = ET.parse(file_name)\n",
    "    root = tree.getroot()\n",
    "\n",
    "#     [elem.tag for elem in root.iter()]\n",
    "\n",
    "    words = [] \n",
    "    for title in root.iter('description'):\n",
    "        words += title.text.split(' ')\n",
    "    \n",
    "    return words\n",
    "\n",
    "words_list = (read_xml(file))\n",
    "words = select_words(words_list, min_word_length)\n",
    "pprint(top_mentioned(words, number_to_show))"
   ]
  }
 ],
 "metadata": {
  "kernelspec": {
   "display_name": "Python 3",
   "language": "python",
   "name": "python3"
  },
  "language_info": {
   "codemirror_mode": {
    "name": "ipython",
    "version": 3
   },
   "file_extension": ".py",
   "mimetype": "text/x-python",
   "name": "python",
   "nbconvert_exporter": "python",
   "pygments_lexer": "ipython3",
   "version": "3.7.6"
  }
 },
 "nbformat": 4,
 "nbformat_minor": 4
}

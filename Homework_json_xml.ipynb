{
 "cells": [
  {
   "cell_type": "code",
   "execution_count": 9,
   "metadata": {},
   "outputs": [
    {
     "name": "stdout",
     "output_type": "stream",
     "text": [
      "[('туристов', 40), ('компании', 26), ('Wilderness', 23), ('странах', 21), ('туризма', 19), ('которые', 16), ('африканских', 16), ('туристы', 15), ('является', 14), ('природы', 13)]\n"
     ]
    }
   ],
   "source": [
    "import json\n",
    "from pprint import pprint\n",
    "\n",
    "file = \"newsafr.json\"\n",
    "min_word_length = 6\n",
    "number_to_show = 10\n",
    "\n",
    "def read_json(file_name):\n",
    "\n",
    "    with open(file_name, encoding=\"utf-8\") as f:\n",
    "        data = json.load(f)\n",
    "        news_descr = data['rss']['channel']['items']\n",
    "        return news_descr\n",
    "\n",
    "def select_words(text, min_word_length):\n",
    "    words = []   \n",
    "    for news in text:\n",
    "        words += news['description'].split(' ')\n",
    "\n",
    "    words = [i for i in words if len(i) > min_word_length] \n",
    "    # sorted_words = (sorted(words, key=len, reverse = True))\n",
    "    return words\n",
    "\n",
    "def top_mentioned(words, number_to_show):    \n",
    "    result = {}\n",
    "\n",
    "    for word in words:\n",
    "        result[word] = words.count(word)\n",
    "\n",
    "    return (sorted(result.items(), key=lambda x:x[1], reverse = True)[:number_to_show])\n",
    "\n",
    "text = (read_json(file))\n",
    "words = select_words(text, min_word_length)\n",
    "print(top_mentioned(words, number_to_show))"
   ]
  },
  {
   "cell_type": "code",
   "execution_count": 5,
   "metadata": {},
   "outputs": [
    {
     "name": "stdout",
     "output_type": "stream",
     "text": [
      "[('туристов', 40), ('компании', 26), ('Wilderness', 23), ('странах', 21), ('туризма', 19), ('которые', 16), ('африканских', 16), ('туристы', 15), ('является', 14), ('природы', 13)]\n"
     ]
    }
   ],
   "source": [
    "import xml.etree.ElementTree as ET\n",
    "\n",
    "file = \"newsafr.xml\"\n",
    "\n",
    "def read_xml(file_name):\n",
    "    \n",
    "    tree = ET.parse(file_name)\n",
    "    root = tree.getroot()\n",
    "\n",
    "#     [elem.tag for elem in root.iter()]\n",
    "\n",
    "    words = [] \n",
    "    for title in root.iter('description'):\n",
    "        words += title.text.split(' ')\n",
    "\n",
    "    words = [i for i in words if len(i) > 6]\n",
    "\n",
    "    result = {}\n",
    "\n",
    "    for word in words:\n",
    "        result[word] = words.count(word)\n",
    "\n",
    "    return (sorted(result.items(), key=lambda x:x[1], reverse = True)[:10])\n",
    "\n",
    "print(read_xml(file))"
   ]
  }
 ],
 "metadata": {
  "kernelspec": {
   "display_name": "Python 3",
   "language": "python",
   "name": "python3"
  },
  "language_info": {
   "codemirror_mode": {
    "name": "ipython",
    "version": 3
   },
   "file_extension": ".py",
   "mimetype": "text/x-python",
   "name": "python",
   "nbconvert_exporter": "python",
   "pygments_lexer": "ipython3",
   "version": "3.7.6"
  }
 },
 "nbformat": 4,
 "nbformat_minor": 4
}
